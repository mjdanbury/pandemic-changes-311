{
 "cells": [
  {
   "cell_type": "markdown",
   "metadata": {},
   "source": [
    "# 0. Imports and Setup"
   ]
  },
  {
   "cell_type": "code",
   "execution_count": 41,
   "metadata": {},
   "outputs": [],
   "source": [
    "import pandas as pd\n",
    "from sodapy import Socrata\n",
    "from dotenv import load_dotenv\n",
    "import os\n",
    "from tqdm import tqdm"
   ]
  },
  {
   "cell_type": "code",
   "execution_count": 2,
   "metadata": {},
   "outputs": [],
   "source": [
    "load_dotenv()\n",
    "app_token = os.getenv(\"APP_TOKEN\")"
   ]
  },
  {
   "cell_type": "code",
   "execution_count": 3,
   "metadata": {},
   "outputs": [],
   "source": [
    "socrata_domain = 'data.cityofnewyork.us'\n",
    "socrata_dataset_identifier = 'erm2-nwe9'\n",
    "\n",
    "client = Socrata(\n",
    "    socrata_domain,\n",
    "    app_token=app_token,\n",
    "    timeout=1000\n",
    ")"
   ]
  },
  {
   "cell_type": "markdown",
   "metadata": {},
   "source": [
    "# 1. Get A List of Complaint Types To Track"
   ]
  },
  {
   "cell_type": "code",
   "execution_count": 4,
   "metadata": {},
   "outputs": [
    {
     "name": "stdout",
     "output_type": "stream",
     "text": [
      "shape of data: (2529, 3)\n"
     ]
    },
    {
     "data": {
      "text/html": [
       "<div>\n",
       "<style scoped>\n",
       "    .dataframe tbody tr th:only-of-type {\n",
       "        vertical-align: middle;\n",
       "    }\n",
       "\n",
       "    .dataframe tbody tr th {\n",
       "        vertical-align: top;\n",
       "    }\n",
       "\n",
       "    .dataframe thead th {\n",
       "        text-align: right;\n",
       "    }\n",
       "</style>\n",
       "<table border=\"1\" class=\"dataframe\">\n",
       "  <thead>\n",
       "    <tr style=\"text-align: right;\">\n",
       "      <th></th>\n",
       "      <th>complaint_type</th>\n",
       "      <th>descriptor</th>\n",
       "      <th>count</th>\n",
       "    </tr>\n",
       "  </thead>\n",
       "  <tbody>\n",
       "    <tr>\n",
       "      <th>0</th>\n",
       "      <td>Noise - Residential</td>\n",
       "      <td>Loud Music/Party</td>\n",
       "      <td>2186708</td>\n",
       "    </tr>\n",
       "    <tr>\n",
       "      <th>1</th>\n",
       "      <td>HEAT/HOT WATER</td>\n",
       "      <td>ENTIRE BUILDING</td>\n",
       "      <td>1422046</td>\n",
       "    </tr>\n",
       "    <tr>\n",
       "      <th>2</th>\n",
       "      <td>Blocked Driveway</td>\n",
       "      <td>No Access</td>\n",
       "      <td>1148829</td>\n",
       "    </tr>\n",
       "    <tr>\n",
       "      <th>3</th>\n",
       "      <td>Request Large Bulky Item Collection</td>\n",
       "      <td>Request Large Bulky Item Collection</td>\n",
       "      <td>1073753</td>\n",
       "    </tr>\n",
       "    <tr>\n",
       "      <th>4</th>\n",
       "      <td>Noise - Street/Sidewalk</td>\n",
       "      <td>Loud Music/Party</td>\n",
       "      <td>915639</td>\n",
       "    </tr>\n",
       "    <tr>\n",
       "      <th>5</th>\n",
       "      <td>HEATING</td>\n",
       "      <td>HEAT</td>\n",
       "      <td>868960</td>\n",
       "    </tr>\n",
       "    <tr>\n",
       "      <th>6</th>\n",
       "      <td>Noise - Residential</td>\n",
       "      <td>Banging/Pounding</td>\n",
       "      <td>857874</td>\n",
       "    </tr>\n",
       "    <tr>\n",
       "      <th>7</th>\n",
       "      <td>Street Light Condition</td>\n",
       "      <td>Street Light Out</td>\n",
       "      <td>834121</td>\n",
       "    </tr>\n",
       "    <tr>\n",
       "      <th>8</th>\n",
       "      <td>HEAT/HOT WATER</td>\n",
       "      <td>APARTMENT ONLY</td>\n",
       "      <td>756633</td>\n",
       "    </tr>\n",
       "    <tr>\n",
       "      <th>9</th>\n",
       "      <td>Street Condition</td>\n",
       "      <td>Pothole</td>\n",
       "      <td>752024</td>\n",
       "    </tr>\n",
       "  </tbody>\n",
       "</table>\n",
       "</div>"
      ],
      "text/plain": [
       "                        complaint_type                           descriptor  \\\n",
       "0                  Noise - Residential                     Loud Music/Party   \n",
       "1                       HEAT/HOT WATER                      ENTIRE BUILDING   \n",
       "2                     Blocked Driveway                            No Access   \n",
       "3  Request Large Bulky Item Collection  Request Large Bulky Item Collection   \n",
       "4              Noise - Street/Sidewalk                     Loud Music/Party   \n",
       "5                              HEATING                                 HEAT   \n",
       "6                  Noise - Residential                     Banging/Pounding   \n",
       "7               Street Light Condition                     Street Light Out   \n",
       "8                       HEAT/HOT WATER                       APARTMENT ONLY   \n",
       "9                     Street Condition                              Pothole   \n",
       "\n",
       "     count  \n",
       "0  2186708  \n",
       "1  1422046  \n",
       "2  1148829  \n",
       "3  1073753  \n",
       "4   915639  \n",
       "5   868960  \n",
       "6   857874  \n",
       "7   834121  \n",
       "8   756633  \n",
       "9   752024  "
      ]
     },
     "execution_count": 4,
     "metadata": {},
     "output_type": "execute_result"
    }
   ],
   "source": [
    "query = \"\"\"\n",
    "SELECT \n",
    "    complaint_type,\n",
    "    descriptor, \n",
    "    count(unique_key) AS count\n",
    "GROUP BY \n",
    "    complaint_type, descriptor\n",
    "ORDER BY \n",
    "    count DESC\n",
    "LIMIT \n",
    "    3000\n",
    "\"\"\"\n",
    "\n",
    "results = client.get(\n",
    "    socrata_dataset_identifier,\n",
    "    query=query\n",
    ")\n",
    "client.close()\n",
    "\n",
    "type_descriptor_df = pd.DataFrame(results)\n",
    "\n",
    "print('shape of data: {}'.format(type_descriptor_df.shape))\n",
    "type_descriptor_df.head(10)"
   ]
  },
  {
   "cell_type": "code",
   "execution_count": 6,
   "metadata": {},
   "outputs": [],
   "source": [
    "type_descriptor_df.to_csv('types_descriptors.csv', index=False)"
   ]
  },
  {
   "cell_type": "markdown",
   "metadata": {},
   "source": [
    "# 2. Get Timeseries Of Overall Complaints"
   ]
  },
  {
   "cell_type": "code",
   "execution_count": 8,
   "metadata": {},
   "outputs": [
    {
     "name": "stdout",
     "output_type": "stream",
     "text": [
      "shape of data: (5177, 2)\n"
     ]
    },
    {
     "data": {
      "text/html": [
       "<div>\n",
       "<style scoped>\n",
       "    .dataframe tbody tr th:only-of-type {\n",
       "        vertical-align: middle;\n",
       "    }\n",
       "\n",
       "    .dataframe tbody tr th {\n",
       "        vertical-align: top;\n",
       "    }\n",
       "\n",
       "    .dataframe thead th {\n",
       "        text-align: right;\n",
       "    }\n",
       "</style>\n",
       "<table border=\"1\" class=\"dataframe\">\n",
       "  <thead>\n",
       "    <tr style=\"text-align: right;\">\n",
       "      <th></th>\n",
       "      <th>day</th>\n",
       "      <th>count</th>\n",
       "    </tr>\n",
       "  </thead>\n",
       "  <tbody>\n",
       "    <tr>\n",
       "      <th>0</th>\n",
       "      <td>2024-03-04T00:00:00.000</td>\n",
       "      <td>291</td>\n",
       "    </tr>\n",
       "    <tr>\n",
       "      <th>1</th>\n",
       "      <td>2024-03-03T00:00:00.000</td>\n",
       "      <td>8252</td>\n",
       "    </tr>\n",
       "    <tr>\n",
       "      <th>2</th>\n",
       "      <td>2024-03-02T00:00:00.000</td>\n",
       "      <td>6991</td>\n",
       "    </tr>\n",
       "    <tr>\n",
       "      <th>3</th>\n",
       "      <td>2024-03-01T00:00:00.000</td>\n",
       "      <td>8910</td>\n",
       "    </tr>\n",
       "    <tr>\n",
       "      <th>4</th>\n",
       "      <td>2024-02-29T00:00:00.000</td>\n",
       "      <td>8994</td>\n",
       "    </tr>\n",
       "    <tr>\n",
       "      <th>5</th>\n",
       "      <td>2024-02-28T00:00:00.000</td>\n",
       "      <td>8434</td>\n",
       "    </tr>\n",
       "    <tr>\n",
       "      <th>6</th>\n",
       "      <td>2024-02-27T00:00:00.000</td>\n",
       "      <td>8855</td>\n",
       "    </tr>\n",
       "    <tr>\n",
       "      <th>7</th>\n",
       "      <td>2024-02-26T00:00:00.000</td>\n",
       "      <td>8989</td>\n",
       "    </tr>\n",
       "    <tr>\n",
       "      <th>8</th>\n",
       "      <td>2024-02-25T00:00:00.000</td>\n",
       "      <td>7215</td>\n",
       "    </tr>\n",
       "    <tr>\n",
       "      <th>9</th>\n",
       "      <td>2024-02-24T00:00:00.000</td>\n",
       "      <td>7091</td>\n",
       "    </tr>\n",
       "  </tbody>\n",
       "</table>\n",
       "</div>"
      ],
      "text/plain": [
       "                       day count\n",
       "0  2024-03-04T00:00:00.000   291\n",
       "1  2024-03-03T00:00:00.000  8252\n",
       "2  2024-03-02T00:00:00.000  6991\n",
       "3  2024-03-01T00:00:00.000  8910\n",
       "4  2024-02-29T00:00:00.000  8994\n",
       "5  2024-02-28T00:00:00.000  8434\n",
       "6  2024-02-27T00:00:00.000  8855\n",
       "7  2024-02-26T00:00:00.000  8989\n",
       "8  2024-02-25T00:00:00.000  7215\n",
       "9  2024-02-24T00:00:00.000  7091"
      ]
     },
     "execution_count": 8,
     "metadata": {},
     "output_type": "execute_result"
    }
   ],
   "source": [
    "query = \"\"\"\n",
    "SELECT \n",
    "    date_trunc_ymd(created_date) AS day, \n",
    "    count(unique_key) AS count\n",
    "GROUP BY \n",
    "    day\n",
    "ORDER BY \n",
    "    day DESC\n",
    "LIMIT \n",
    "    10000\n",
    "\"\"\"\n",
    "\n",
    "results = client.get(\n",
    "    socrata_dataset_identifier,\n",
    "    query=query\n",
    ")\n",
    "client.close()\n",
    "\n",
    "overall_df = pd.DataFrame(results)\n",
    "\n",
    "print('shape of data: {}'.format(overall_df.shape))\n",
    "overall_df.head(10)"
   ]
  },
  {
   "cell_type": "code",
   "execution_count": 9,
   "metadata": {},
   "outputs": [],
   "source": [
    "overall_df.to_csv('overall_ts.csv', index=False)"
   ]
  },
  {
   "cell_type": "markdown",
   "metadata": {},
   "source": [
    "# 3. Get a buuuunch of data TKTK "
   ]
  },
  {
   "cell_type": "code",
   "execution_count": 44,
   "metadata": {},
   "outputs": [],
   "source": [
    "types_descriptors = pd.read_csv('types_descriptors.csv')"
   ]
  },
  {
   "cell_type": "code",
   "execution_count": 45,
   "metadata": {},
   "outputs": [
    {
     "data": {
      "text/html": [
       "<div>\n",
       "<style scoped>\n",
       "    .dataframe tbody tr th:only-of-type {\n",
       "        vertical-align: middle;\n",
       "    }\n",
       "\n",
       "    .dataframe tbody tr th {\n",
       "        vertical-align: top;\n",
       "    }\n",
       "\n",
       "    .dataframe thead th {\n",
       "        text-align: right;\n",
       "    }\n",
       "</style>\n",
       "<table border=\"1\" class=\"dataframe\">\n",
       "  <thead>\n",
       "    <tr style=\"text-align: right;\">\n",
       "      <th></th>\n",
       "      <th>complaint_type</th>\n",
       "      <th>descriptor</th>\n",
       "      <th>count</th>\n",
       "    </tr>\n",
       "  </thead>\n",
       "  <tbody>\n",
       "    <tr>\n",
       "      <th>0</th>\n",
       "      <td>Noise - Residential</td>\n",
       "      <td>Loud Music/Party</td>\n",
       "      <td>2186708</td>\n",
       "    </tr>\n",
       "    <tr>\n",
       "      <th>1</th>\n",
       "      <td>HEAT/HOT WATER</td>\n",
       "      <td>ENTIRE BUILDING</td>\n",
       "      <td>1422046</td>\n",
       "    </tr>\n",
       "    <tr>\n",
       "      <th>2</th>\n",
       "      <td>Blocked Driveway</td>\n",
       "      <td>No Access</td>\n",
       "      <td>1148829</td>\n",
       "    </tr>\n",
       "    <tr>\n",
       "      <th>3</th>\n",
       "      <td>Request Large Bulky Item Collection</td>\n",
       "      <td>Request Large Bulky Item Collection</td>\n",
       "      <td>1073753</td>\n",
       "    </tr>\n",
       "    <tr>\n",
       "      <th>4</th>\n",
       "      <td>Noise - Street/Sidewalk</td>\n",
       "      <td>Loud Music/Party</td>\n",
       "      <td>915639</td>\n",
       "    </tr>\n",
       "  </tbody>\n",
       "</table>\n",
       "</div>"
      ],
      "text/plain": [
       "                        complaint_type                           descriptor  \\\n",
       "0                  Noise - Residential                     Loud Music/Party   \n",
       "1                       HEAT/HOT WATER                      ENTIRE BUILDING   \n",
       "2                     Blocked Driveway                            No Access   \n",
       "3  Request Large Bulky Item Collection  Request Large Bulky Item Collection   \n",
       "4              Noise - Street/Sidewalk                     Loud Music/Party   \n",
       "\n",
       "     count  \n",
       "0  2186708  \n",
       "1  1422046  \n",
       "2  1148829  \n",
       "3  1073753  \n",
       "4   915639  "
      ]
     },
     "execution_count": 45,
     "metadata": {},
     "output_type": "execute_result"
    }
   ],
   "source": [
    "types_descriptors.head(5)"
   ]
  },
  {
   "cell_type": "code",
   "execution_count": 50,
   "metadata": {},
   "outputs": [
    {
     "name": "stderr",
     "output_type": "stream",
     "text": [
      "1720it [11:20,  2.53it/s]\n"
     ]
    },
    {
     "ename": "HTTPError",
     "evalue": "400 Client Error: Bad Request.\n\tCould not parse SoQL query \"\n        SELECT \n            date_trunc_ymd(created_date) AS day, \n            count(unique_key) AS count\n        WHERE\n            complaint_type == \"..\\..\\..\\..\\..\\..\\..\\..\\..\\...\"\n            AND descriptor == \"Trauma Counseling\"\n        GROUP BY \n            day\n        ORDER BY \n            day DESC\n        LIMIT \n            10000\n        \": Unexpected escape character:\n            complaint_type == \"..\\..\\..\\..\\..\\..\\..\\..\\..\\...\"\n                                 ^",
     "output_type": "error",
     "traceback": [
      "\u001b[0;31m---------------------------------------------------------------------------\u001b[0m",
      "\u001b[0;31mHTTPError\u001b[0m                                 Traceback (most recent call last)",
      "Cell \u001b[0;32mIn[50], line 16\u001b[0m\n\u001b[1;32m      1\u001b[0m \u001b[38;5;28;01mfor\u001b[39;00m index, row \u001b[38;5;129;01min\u001b[39;00m tqdm(types_descriptors\u001b[38;5;241m.\u001b[39miloc[\u001b[38;5;241m404\u001b[39m:]\u001b[38;5;241m.\u001b[39miterrows()):\n\u001b[1;32m      2\u001b[0m     query \u001b[38;5;241m=\u001b[39m \u001b[38;5;124mf\u001b[39m\u001b[38;5;124m\"\"\"\u001b[39m\n\u001b[1;32m      3\u001b[0m \u001b[38;5;124m        SELECT \u001b[39m\n\u001b[1;32m      4\u001b[0m \u001b[38;5;124m            date_trunc_ymd(created_date) AS day, \u001b[39m\n\u001b[0;32m   (...)\u001b[0m\n\u001b[1;32m     14\u001b[0m \u001b[38;5;124m            10000\u001b[39m\n\u001b[1;32m     15\u001b[0m \u001b[38;5;124m        \u001b[39m\u001b[38;5;124m\"\"\"\u001b[39m\n\u001b[0;32m---> 16\u001b[0m     results \u001b[38;5;241m=\u001b[39m \u001b[43mclient\u001b[49m\u001b[38;5;241;43m.\u001b[39;49m\u001b[43mget\u001b[49m\u001b[43m(\u001b[49m\u001b[43msocrata_dataset_identifier\u001b[49m\u001b[43m,\u001b[49m\u001b[43mquery\u001b[49m\u001b[38;5;241;43m=\u001b[39;49m\u001b[43mquery\u001b[49m\u001b[43m)\u001b[49m\n\u001b[1;32m     17\u001b[0m     client\u001b[38;5;241m.\u001b[39mclose()\n\u001b[1;32m     18\u001b[0m     df \u001b[38;5;241m=\u001b[39m pd\u001b[38;5;241m.\u001b[39mDataFrame(results)\n",
      "File \u001b[0;32m~/.pyenv/versions/3.11.7/lib/python3.11/site-packages/sodapy/socrata.py:412\u001b[0m, in \u001b[0;36mSocrata.get\u001b[0;34m(self, dataset_identifier, content_type, **kwargs)\u001b[0m\n\u001b[1;32m    409\u001b[0m params\u001b[38;5;241m.\u001b[39mupdate(kwargs)\n\u001b[1;32m    410\u001b[0m params \u001b[38;5;241m=\u001b[39m utils\u001b[38;5;241m.\u001b[39mclear_empty_values(params)\n\u001b[0;32m--> 412\u001b[0m response \u001b[38;5;241m=\u001b[39m \u001b[38;5;28;43mself\u001b[39;49m\u001b[38;5;241;43m.\u001b[39;49m\u001b[43m_perform_request\u001b[49m\u001b[43m(\u001b[49m\n\u001b[1;32m    413\u001b[0m \u001b[43m    \u001b[49m\u001b[38;5;124;43m\"\u001b[39;49m\u001b[38;5;124;43mget\u001b[39;49m\u001b[38;5;124;43m\"\u001b[39;49m\u001b[43m,\u001b[49m\u001b[43m \u001b[49m\u001b[43mresource\u001b[49m\u001b[43m,\u001b[49m\u001b[43m \u001b[49m\u001b[43mheaders\u001b[49m\u001b[38;5;241;43m=\u001b[39;49m\u001b[43mheaders\u001b[49m\u001b[43m,\u001b[49m\u001b[43m \u001b[49m\u001b[43mparams\u001b[49m\u001b[38;5;241;43m=\u001b[39;49m\u001b[43mparams\u001b[49m\n\u001b[1;32m    414\u001b[0m \u001b[43m\u001b[49m\u001b[43m)\u001b[49m\n\u001b[1;32m    415\u001b[0m \u001b[38;5;28;01mreturn\u001b[39;00m response\n",
      "File \u001b[0;32m~/.pyenv/versions/3.11.7/lib/python3.11/site-packages/sodapy/socrata.py:555\u001b[0m, in \u001b[0;36mSocrata._perform_request\u001b[0;34m(self, request_type, resource, **kwargs)\u001b[0m\n\u001b[1;32m    553\u001b[0m \u001b[38;5;66;03m# handle errors\u001b[39;00m\n\u001b[1;32m    554\u001b[0m \u001b[38;5;28;01mif\u001b[39;00m response\u001b[38;5;241m.\u001b[39mstatus_code \u001b[38;5;129;01mnot\u001b[39;00m \u001b[38;5;129;01min\u001b[39;00m (\u001b[38;5;241m200\u001b[39m, \u001b[38;5;241m202\u001b[39m):\n\u001b[0;32m--> 555\u001b[0m     \u001b[43mutils\u001b[49m\u001b[38;5;241;43m.\u001b[39;49m\u001b[43mraise_for_status\u001b[49m\u001b[43m(\u001b[49m\u001b[43mresponse\u001b[49m\u001b[43m)\u001b[49m\n\u001b[1;32m    557\u001b[0m \u001b[38;5;66;03m# when responses have no content body (ie. delete, set_permission),\u001b[39;00m\n\u001b[1;32m    558\u001b[0m \u001b[38;5;66;03m# simply return the whole response\u001b[39;00m\n\u001b[1;32m    559\u001b[0m \u001b[38;5;28;01mif\u001b[39;00m \u001b[38;5;129;01mnot\u001b[39;00m response\u001b[38;5;241m.\u001b[39mtext:\n",
      "File \u001b[0;32m~/.pyenv/versions/3.11.7/lib/python3.11/site-packages/sodapy/utils.py:30\u001b[0m, in \u001b[0;36mraise_for_status\u001b[0;34m(response)\u001b[0m\n\u001b[1;32m     28\u001b[0m \u001b[38;5;28;01mif\u001b[39;00m more_info \u001b[38;5;129;01mand\u001b[39;00m more_info\u001b[38;5;241m.\u001b[39mlower() \u001b[38;5;241m!=\u001b[39m response\u001b[38;5;241m.\u001b[39mreason\u001b[38;5;241m.\u001b[39mlower():\n\u001b[1;32m     29\u001b[0m     http_error_msg \u001b[38;5;241m+\u001b[39m\u001b[38;5;241m=\u001b[39m \u001b[38;5;124m\"\u001b[39m\u001b[38;5;124m.\u001b[39m\u001b[38;5;130;01m\\n\u001b[39;00m\u001b[38;5;130;01m\\t\u001b[39;00m\u001b[38;5;132;01m{}\u001b[39;00m\u001b[38;5;124m\"\u001b[39m\u001b[38;5;241m.\u001b[39mformat(more_info)\n\u001b[0;32m---> 30\u001b[0m \u001b[38;5;28;01mraise\u001b[39;00m requests\u001b[38;5;241m.\u001b[39mexceptions\u001b[38;5;241m.\u001b[39mHTTPError(http_error_msg, response\u001b[38;5;241m=\u001b[39mresponse)\n",
      "\u001b[0;31mHTTPError\u001b[0m: 400 Client Error: Bad Request.\n\tCould not parse SoQL query \"\n        SELECT \n            date_trunc_ymd(created_date) AS day, \n            count(unique_key) AS count\n        WHERE\n            complaint_type == \"..\\..\\..\\..\\..\\..\\..\\..\\..\\...\"\n            AND descriptor == \"Trauma Counseling\"\n        GROUP BY \n            day\n        ORDER BY \n            day DESC\n        LIMIT \n            10000\n        \": Unexpected escape character:\n            complaint_type == \"..\\..\\..\\..\\..\\..\\..\\..\\..\\...\"\n                                 ^"
     ]
    }
   ],
   "source": [
    "for index, row in tqdm(types_descriptors.iloc[404:].iterrows()):\n",
    "    query = f\"\"\"\n",
    "        SELECT \n",
    "            date_trunc_ymd(created_date) AS day, \n",
    "            count(unique_key) AS count\n",
    "        WHERE\n",
    "            complaint_type == \"{row['complaint_type']}\"\n",
    "            AND descriptor == \"{row['descriptor']}\"\n",
    "        GROUP BY \n",
    "            day\n",
    "        ORDER BY \n",
    "            day DESC\n",
    "        LIMIT \n",
    "            10000\n",
    "        \"\"\"\n",
    "    results = client.get(socrata_dataset_identifier,query=query)\n",
    "    client.close()\n",
    "    df = pd.DataFrame(results)\n",
    "    df['complaint_type'] = row['complaint_type']\n",
    "    df['descriptor'] = row['descriptor']\n",
    "    df.to_csv('data/'+str(index)+'.csv',index=False)"
   ]
  },
  {
   "cell_type": "code",
   "execution_count": 25,
   "metadata": {},
   "outputs": [],
   "source": [
    "queries = [ f\"\"\"\n",
    "SELECT \n",
    "    date_trunc_ymd(created_date) AS day, \n",
    "    count(unique_key) AS count\n",
    "WHERE\n",
    "    complaint_type == \"{row['complaint_type']}\"\n",
    "    AND descriptor == \"{row['descriptor']}\"\n",
    "GROUP BY \n",
    "    day\n",
    "ORDER BY \n",
    "    day DESC\n",
    "LIMIT \n",
    "    10000\n",
    "\"\"\" for index, row in types_descriptors.iterrows()]"
   ]
  },
  {
   "cell_type": "code",
   "execution_count": 29,
   "metadata": {},
   "outputs": [
    {
     "data": {
      "text/plain": [
       "'\\nSELECT \\n    date_trunc_ymd(created_date) AS day, \\n    count(unique_key) AS count\\nWHERE\\n    complaint_type == \"Noise - Residential\"\\n    AND descriptor == \"Loud Music/Party\"\\nGROUP BY \\n    day\\nORDER BY \\n    day DESC\\nLIMIT \\n    10000\\n'"
      ]
     },
     "execution_count": 29,
     "metadata": {},
     "output_type": "execute_result"
    }
   ],
   "source": [
    "queries[0]"
   ]
  }
 ],
 "metadata": {
  "kernelspec": {
   "display_name": "Python 3",
   "language": "python",
   "name": "python3"
  },
  "language_info": {
   "codemirror_mode": {
    "name": "ipython",
    "version": 3
   },
   "file_extension": ".py",
   "mimetype": "text/x-python",
   "name": "python",
   "nbconvert_exporter": "python",
   "pygments_lexer": "ipython3",
   "version": "3.11.7"
  }
 },
 "nbformat": 4,
 "nbformat_minor": 2
}
